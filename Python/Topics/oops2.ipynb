{
 "cells": [
  {
   "cell_type": "code",
   "execution_count": 18,
   "metadata": {},
   "outputs": [],
   "source": [
    "class Point:\n",
    "    def __init__(self,x,y):\n",
    "        self.x_cor = x\n",
    "        self.y_cor = y\n",
    "    def __str__(self):\n",
    "        return '<{},{}>'.format(self.x_cor,self.y_cor)\n",
    "    def eculidian_distance(self,other):\n",
    "        return ((other.x_cor - self.x_cor)**2 + (other.y_cor - self.y_cor)**2)**0.5\n",
    "    def distance_from_orign(self):\n",
    "        return self.eculidian_distance(Point(0,0))"
   ]
  },
  {
   "cell_type": "code",
   "execution_count": 25,
   "metadata": {},
   "outputs": [
    {
     "name": "stdout",
     "output_type": "stream",
     "text": [
      "9.899494936611665\n",
      "14.142135623730951\n"
     ]
    }
   ],
   "source": [
    "p1 = Point(3,3)\n",
    "p2 = Point(10,10)\n",
    "# print(p1)\n",
    "print(p1.eculidian_distance(p2))\n",
    "print(p2.distance_from_orign())\n"
   ]
  },
  {
   "cell_type": "code",
   "execution_count": null,
   "metadata": {},
   "outputs": [],
   "source": [
    "class Line:\n",
    "    def __init__(self,a,b,c):\n",
    "        self.A =  a\n",
    "        self.B =  b\n",
    "        self.C =  c\n",
    "    def __str__(self):\n",
    "        return  '{}x + {}y + {} = 0'.format(self.A,self.B,self.C) if self.C>0 else '{}x+{}y{} = 0'.format(self.A,self.B,self.C)\n",
    "    def point_on_line(self,point):\n",
    "        if self.A*point.x_cor + self.B*point.y_cor + self.C == 0 :\n",
    "            return 'lies on the line'\n",
    "        else:\n",
    "            return 'does not lies on the line'\n",
    "    def shortest_distance(line,point):\n",
    "       return abs(line.A*point.x_cor +  line.B*point.y_cor + line.C)/(line.A**2 + line.B**2)**0.5\n",
    "\n",
    "    "
   ]
  },
  {
   "cell_type": "code",
   "execution_count": 63,
   "metadata": {},
   "outputs": [
    {
     "name": "stdout",
     "output_type": "stream",
     "text": [
      "1x+1y-2 = 0\n",
      "lies on the line\n",
      "0.0\n"
     ]
    }
   ],
   "source": [
    "l1 = Line(1,1,-2)\n",
    "p3 = Point(1,1)\n",
    "print(l1)\n",
    "print(l1.point_on_line(p3))\n",
    "print(l1.shortest_distance(p3))"
   ]
  },
  {
   "cell_type": "code",
   "execution_count": 66,
   "metadata": {},
   "outputs": [],
   "source": [
    "class Person:\n",
    "\n",
    "  def __init__(self,name_input,country_input):\n",
    "    self.name = name_input\n",
    "    self.country = country_input\n",
    "\n",
    "  def greet(self):\n",
    "    if self.country == 'india':\n",
    "      print('Namaste',self.name)\n",
    "    else:\n",
    "      print('Hello---------------------',self.name)\n"
   ]
  },
  {
   "cell_type": "code",
   "execution_count": null,
   "metadata": {},
   "outputs": [],
   "source": [
    "# how to access attributes\n",
    "p = Person('navneet','india')\n"
   ]
  },
  {
   "cell_type": "code",
   "execution_count": 71,
   "metadata": {},
   "outputs": [
    {
     "name": "stdout",
     "output_type": "stream",
     "text": [
      "Namaste nitish\n"
     ]
    }
   ],
   "source": [
    "p.name\n",
    "p.greet()"
   ]
  },
  {
   "cell_type": "code",
   "execution_count": null,
   "metadata": {},
   "outputs": [
    {
     "ename": "AttributeError",
     "evalue": "'Person' object has no attribute 'gender'",
     "output_type": "error",
     "traceback": [
      "\u001b[0;31m---------------------------------------------------------------------------\u001b[0m",
      "\u001b[0;31mAttributeError\u001b[0m                            Traceback (most recent call last)",
      "Cell \u001b[0;32mIn[70], line 1\u001b[0m\n\u001b[0;32m----> 1\u001b[0m \u001b[43mp\u001b[49m\u001b[38;5;241;43m.\u001b[39;49m\u001b[43mgender\u001b[49m()\n",
      "\u001b[0;31mAttributeError\u001b[0m: 'Person' object has no attribute 'gender'"
     ]
    }
   ],
   "source": [
    "p.gender"
   ]
  },
  {
   "cell_type": "code",
   "execution_count": null,
   "metadata": {},
   "outputs": [],
   "source": [
    "p.gender = 'male' # class  k bahar se attribute access krr skte hai\n",
    "\n"
   ]
  },
  {
   "cell_type": "code",
   "execution_count": 73,
   "metadata": {},
   "outputs": [
    {
     "data": {
      "text/plain": [
       "'male'"
      ]
     },
     "execution_count": 73,
     "metadata": {},
     "output_type": "execute_result"
    }
   ],
   "source": [
    "p.gender"
   ]
  }
 ],
 "metadata": {
  "kernelspec": {
   "display_name": "venv",
   "language": "python",
   "name": "python3"
  },
  "language_info": {
   "codemirror_mode": {
    "name": "ipython",
    "version": 3
   },
   "file_extension": ".py",
   "mimetype": "text/x-python",
   "name": "python",
   "nbconvert_exporter": "python",
   "pygments_lexer": "ipython3",
   "version": "3.12.7"
  }
 },
 "nbformat": 4,
 "nbformat_minor": 2
}
