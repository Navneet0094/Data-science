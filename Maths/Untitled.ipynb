{
 "cells": [
  {
   "cell_type": "code",
   "execution_count": 20,
   "id": "8849ebc9-ed66-451b-96ab-d3289f30b024",
   "metadata": {},
   "outputs": [],
   "source": [
    "import numpy as np\n",
    "import matplotlib.pyplot as plt \n",
    "# %matplotlib inline"
   ]
  },
  {
   "cell_type": "code",
   "execution_count": 32,
   "id": "18e84996-d82e-42ae-9234-e7684f370ddf",
   "metadata": {},
   "outputs": [
    {
     "name": "stdout",
     "output_type": "stream",
     "text": [
      "[7 9 8 7 8 9 9 9 9 7 9 7 8 9 8 8 7 9 7 7]\n"
     ]
    }
   ],
   "source": [
    "m = np.random.randint(7,10,20)\n",
    "print(m)"
   ]
  },
  {
   "cell_type": "code",
   "execution_count": 34,
   "id": "5d2ab316-1146-4c86-9635-830cce1a61c4",
   "metadata": {},
   "outputs": [
    {
     "data": {
      "text/plain": [
       "8.05"
      ]
     },
     "execution_count": 34,
     "metadata": {},
     "output_type": "execute_result"
    }
   ],
   "source": [
    "np.mean(m)"
   ]
  },
  {
   "cell_type": "code",
   "execution_count": 38,
   "id": "0a47b6ba-3085-41c2-b96e-c5bfd0fe91d6",
   "metadata": {},
   "outputs": [
    {
     "data": {
      "text/plain": [
       "8.0"
      ]
     },
     "execution_count": 38,
     "metadata": {},
     "output_type": "execute_result"
    }
   ],
   "source": [
    "np.median(m)"
   ]
  },
  {
   "cell_type": "code",
   "execution_count": 42,
   "id": "5366b1e4-139c-4ea7-acd7-c2ba520b7a82",
   "metadata": {},
   "outputs": [
    {
     "data": {
      "text/plain": [
       "9"
      ]
     },
     "execution_count": 42,
     "metadata": {},
     "output_type": "execute_result"
    }
   ],
   "source": [
    "from statistics import mode\n",
    "mode(m)\n"
   ]
  },
  {
   "cell_type": "code",
   "execution_count": 80,
   "id": "59e03fa0-92e4-4e59-b6f3-8555745b97ab",
   "metadata": {},
   "outputs": [
    {
     "data": {
      "text/plain": [
       "9.3"
      ]
     },
     "execution_count": 80,
     "metadata": {},
     "output_type": "execute_result"
    }
   ],
   "source": [
    "population = np.random.randint(7,12,20)\n",
    "np.mean(population)"
   ]
  },
  {
   "cell_type": "code",
   "execution_count": 52,
   "id": "705beafb-3f59-4285-877d-f2f0f983a83d",
   "metadata": {},
   "outputs": [
    {
     "data": {
      "text/plain": [
       "9.0"
      ]
     },
     "execution_count": 52,
     "metadata": {},
     "output_type": "execute_result"
    }
   ],
   "source": [
    "sample = np.random.choice(population,15)\n",
    "np.mean(sample)"
   ]
  },
  {
   "cell_type": "code",
   "execution_count": 82,
   "id": "3ddfd591-e2d1-4930-868e-64d3f7f80b05",
   "metadata": {},
   "outputs": [],
   "source": [
    "sample1 = np.random.choice(population,15)\n",
    "sample2 = np.random.choice(population,15)\n",
    "sample3 = np.random.choice(population,15)\n",
    "sample4 = np.random.choice(population,15)"
   ]
  },
  {
   "cell_type": "code",
   "execution_count": 102,
   "id": "566959a9-2a47-4b11-864c-fea70d4f1c79",
   "metadata": {},
   "outputs": [
    {
     "name": "stdout",
     "output_type": "stream",
     "text": [
      "[8.733333333333333, 9.266666666666667, 9.6, 9.0]\n"
     ]
    }
   ],
   "source": [
    "allSample = [sample1,sample2,sample3,sample4]\n",
    "sample_mean = []\n",
    "for i in allSample:\n",
    "    sample_mean.append(np.mean(i))\n",
    "print(sample_mean)"
   ]
  },
  {
   "cell_type": "code",
   "execution_count": 106,
   "id": "f3edfdc7-ab1d-4ff9-83c7-cd3fd8ffb34f",
   "metadata": {},
   "outputs": [
    {
     "data": {
      "text/plain": [
       "9.15"
      ]
     },
     "execution_count": 106,
     "metadata": {},
     "output_type": "execute_result"
    }
   ],
   "source": [
    "np.mean(sample_mean)"
   ]
  },
  {
   "cell_type": "code",
   "execution_count": 100,
   "id": "f16acc4b-29cc-4362-ba78-fb966953f255",
   "metadata": {},
   "outputs": [
    {
     "data": {
      "text/plain": [
       "9.3"
      ]
     },
     "execution_count": 100,
     "metadata": {},
     "output_type": "execute_result"
    }
   ],
   "source": [
    "np.mean(population)"
   ]
  },
  {
   "cell_type": "code",
   "execution_count": 108,
   "id": "b1e4a60e-84fb-4521-ab99-f24fd5f9bc4d",
   "metadata": {},
   "outputs": [
    {
     "name": "stdout",
     "output_type": "stream",
     "text": [
      "Random Sample: [52, 93, 15, 72, 61, 21, 83, 87, 75, 75]\n"
     ]
    },
    {
     "data": {
      "image/png": "[encoded data removed]",
      "text/plain": [
       "<Figure size 640x480 with 1 Axes>"
      ]
     },
     "metadata": {},
     "output_type": "display_data"
    }
   ],
   "source": [
    "import numpy as np\n",
    "import matplotlib.pyplot as plt\n",
    "%matplotlib inline\n",
    "population = np.arange(1, 101)\n",
    "sample_size = 10 # Step 2: Define sample size\n",
    "\n",
    "# Step 3: Manually implement random sampling\n",
    "np.random.seed(42)  # For reproducibility\n",
    "sample = []\n",
    "for _ in range(sample_size):\n",
    "    idx = np.random.randint(0, len(population))\n",
    "    sample.append(population[idx])\n",
    "\n",
    "print(\"Random Sample:\", sample)\n",
    "\n",
    "# Visualize the sample against the population\n",
    "plt.scatter(population, [1] * len(population), label=\"Population\", alpha=0.5)\n",
    "plt.scatter(sample, [1.1] * len(sample), color=\"red\", label=\"Sample\", alpha=0.8)\n",
    "plt.legend()\n",
    "plt.show()"
   ]
  },
  {
   "cell_type": "code",
   "execution_count": null,
   "id": "9d58d4d7-6aac-4984-b8ba-13a8929a4ec8",
   "metadata": {},
   "outputs": [],
   "source": []
  }
 ],
 "metadata": {
  "kernelspec": {
   "display_name": "Python [conda env:base] *",
   "language": "python",
   "name": "conda-base-py"
  },
  "language_info": {
   "codemirror_mode": {
    "name": "ipython",
    "version": 3
   },
   "file_extension": ".py",
   "mimetype": "text/x-python",
   "name": "python",
   "nbconvert_exporter": "python",
   "pygments_lexer": "ipython3",
   "version": "3.12.7"
  }
 },
 "nbformat": 4,
 "nbformat_minor": 5
}
